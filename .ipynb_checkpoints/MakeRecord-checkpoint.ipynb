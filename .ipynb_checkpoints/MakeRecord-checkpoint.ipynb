{
 "cells": [
  {
   "cell_type": "code",
   "execution_count": 21,
   "metadata": {},
   "outputs": [
    {
     "name": "stdout",
     "output_type": "stream",
     "text": [
      "<class 'numpy.ndarray'>\n",
      "42000\n"
     ]
    },
    {
     "name": "stderr",
     "output_type": "stream",
     "text": [
      "\r",
      "  0%|                                                                                        | 0/41999 [00:00<?, ?it/s]"
     ]
    },
    {
     "name": "stdout",
     "output_type": "stream",
     "text": [
      "0\n"
     ]
    },
    {
     "name": "stderr",
     "output_type": "stream",
     "text": [
      "\n"
     ]
    },
    {
     "ename": "TypeError",
     "evalue": "only size-1 arrays can be converted to Python scalars",
     "output_type": "error",
     "traceback": [
      "\u001b[1;31m---------------------------------------------------------------------------\u001b[0m",
      "\u001b[1;31mTypeError\u001b[0m                                 Traceback (most recent call last)",
      "\u001b[1;32m<ipython-input-21-c9a989b4c754>\u001b[0m in \u001b[0;36m<module>\u001b[1;34m()\u001b[0m\n\u001b[0;32m     22\u001b[0m         features = tf.train.Feature(\n\u001b[0;32m     23\u001b[0m             feature = { \n\u001b[1;32m---> 24\u001b[1;33m                 \u001b[1;34m'label'\u001b[0m\u001b[1;33m:\u001b[0m\u001b[0mtf\u001b[0m\u001b[1;33m.\u001b[0m\u001b[0mtrain\u001b[0m\u001b[1;33m.\u001b[0m\u001b[0mFeature\u001b[0m\u001b[1;33m(\u001b[0m\u001b[0mint64_list\u001b[0m\u001b[1;33m=\u001b[0m\u001b[0mtf\u001b[0m\u001b[1;33m.\u001b[0m\u001b[0mtrain\u001b[0m\u001b[1;33m.\u001b[0m\u001b[0mInt64List\u001b[0m\u001b[1;33m(\u001b[0m\u001b[0mvalue\u001b[0m\u001b[1;33m=\u001b[0m\u001b[1;33m[\u001b[0m\u001b[0mlabel_vec\u001b[0m\u001b[1;33m]\u001b[0m\u001b[1;33m)\u001b[0m\u001b[1;33m)\u001b[0m\u001b[1;33m,\u001b[0m\u001b[1;33m\u001b[0m\u001b[0m\n\u001b[0m\u001b[0;32m     25\u001b[0m                 \u001b[1;34m'image'\u001b[0m\u001b[1;33m:\u001b[0m\u001b[0mtf\u001b[0m\u001b[1;33m.\u001b[0m\u001b[0mtrain\u001b[0m\u001b[1;33m.\u001b[0m\u001b[0mFeature\u001b[0m\u001b[1;33m(\u001b[0m\u001b[0mint64_list\u001b[0m\u001b[1;33m=\u001b[0m\u001b[0mtf\u001b[0m\u001b[1;33m.\u001b[0m\u001b[0mtrain\u001b[0m\u001b[1;33m.\u001b[0m\u001b[0mInt64List\u001b[0m\u001b[1;33m(\u001b[0m\u001b[0mvalue\u001b[0m\u001b[1;33m=\u001b[0m\u001b[1;33m[\u001b[0m\u001b[0mimg_vec\u001b[0m\u001b[1;33m]\u001b[0m\u001b[1;33m)\u001b[0m\u001b[1;33m)\u001b[0m\u001b[1;33m\u001b[0m\u001b[0m\n\u001b[0;32m     26\u001b[0m             }\n",
      "\u001b[1;31mTypeError\u001b[0m: only size-1 arrays can be converted to Python scalars"
     ]
    }
   ],
   "source": [
    "import numpy as np\n",
    "import tensorflow as tf\n",
    "import csv\n",
    "from tqdm import tqdm\n",
    "\n",
    "\n",
    "MNIST_DATA = np.loadtxt(open(\"./data/train.csv\", \"rb\"), delimiter=\",\", skiprows=1)\n",
    "print(type(MNIST_DATA))\n",
    "print(len(MNIST_DATA))\n",
    "\n",
    "record_path = './data/train.tfrecords'\n",
    "tf_writer = tf.python_io.TFRecordWriter(record_path)\n",
    "\n",
    "for row in tqdm(range(1,len(MNIST_DATA))):\n",
    "    class_num = int(MNIST_DATA[row][0])\n",
    "    img_vec = MNIST_DATA[row][1:]\n",
    "    print(int(class_num))\n",
    "    label_vec = np.zeros(10)\n",
    "    label_vec[class_num] = 1\n",
    "    \n",
    "    print(img_vec.size)\n",
    "    print(label_vec.size)\n",
    "    \n",
    "    \n",
    "    example = tf.train.Example(\n",
    "        features = tf.train.Feature(\n",
    "            feature = { \n",
    "                'label':tf.train.Feature(int64_list=tf.train.Int64List(value=[label_vec])),\n",
    "                'image':tf.train.Feature(int64_list=tf.train.Int64List(value=[img_vec]))\n",
    "            }\n",
    "        )    \n",
    "    )\n",
    "    tf_writer.write(example.SerializeToString())\n",
    "tf_writer.close()"
   ]
  },
  {
   "cell_type": "code",
   "execution_count": null,
   "metadata": {},
   "outputs": [],
   "source": []
  }
 ],
 "metadata": {
  "kernelspec": {
   "display_name": "Python 3",
   "language": "python",
   "name": "python3"
  },
  "language_info": {
   "codemirror_mode": {
    "name": "ipython",
    "version": 3
   },
   "file_extension": ".py",
   "mimetype": "text/x-python",
   "name": "python",
   "nbconvert_exporter": "python",
   "pygments_lexer": "ipython3",
   "version": "3.6.5"
  }
 },
 "nbformat": 4,
 "nbformat_minor": 2
}
