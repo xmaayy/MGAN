{
 "cells": [
  {
   "cell_type": "code",
   "execution_count": 28,
   "metadata": {},
   "outputs": [
    {
     "name": "stdout",
     "output_type": "stream",
     "text": [
      "<class 'numpy.ndarray'>\n",
      "42000\n"
     ]
    },
    {
     "name": "stderr",
     "output_type": "stream",
     "text": [
      "100%|██████████████████████████████████████████████████████████████████████████| 41999/41999 [00:05<00:00, 7737.01it/s]\n"
     ]
    }
   ],
   "source": [
    "import numpy as np\n",
    "import tensorflow as tf\n",
    "import csv\n",
    "from tqdm import tqdm\n",
    "\n",
    "\n",
    "MNIST_DATA = np.loadtxt(open(\"./data/train.csv\", \"rb\"), delimiter=\",\", skiprows=1)\n",
    "print(type(MNIST_DATA))\n",
    "print(len(MNIST_DATA))\n",
    "\n",
    "record_path = './data/train.tfrecords'\n",
    "tf_writer = tf.python_io.TFRecordWriter(record_path)\n",
    "\n",
    "for row in tqdm(range(1,len(MNIST_DATA))):\n",
    "    class_num = int(MNIST_DATA[row][0])\n",
    "    img_vec = MNIST_DATA[row][1:]\n",
    "    label_vec = np.zeros(10)\n",
    "    label_vec[class_num] = 1    \n",
    "    \n",
    "    example = tf.train.Example(\n",
    "        features = tf.train.Features(\n",
    "            feature = { \n",
    "                'label':tf.train.Feature(bytes_list=tf.train.BytesList(value=[tf.compat.as_bytes(label_vec.tostring())])),\n",
    "                'image':tf.train.Feature(bytes_list=tf.train.BytesList(value=[tf.compat.as_bytes(img_vec.tostring())]))\n",
    "            }\n",
    "        )    \n",
    "    )\n",
    "    tf_writer.write(example.SerializeToString())\n",
    "tf_writer.close()"
   ]
  },
  {
   "cell_type": "code",
   "execution_count": null,
   "metadata": {},
   "outputs": [],
   "source": []
  }
 ],
 "metadata": {
  "kernelspec": {
   "display_name": "Python 3",
   "language": "python",
   "name": "python3"
  },
  "language_info": {
   "codemirror_mode": {
    "name": "ipython",
    "version": 3
   },
   "file_extension": ".py",
   "mimetype": "text/x-python",
   "name": "python",
   "nbconvert_exporter": "python",
   "pygments_lexer": "ipython3",
   "version": "3.6.5"
  }
 },
 "nbformat": 4,
 "nbformat_minor": 2
}
